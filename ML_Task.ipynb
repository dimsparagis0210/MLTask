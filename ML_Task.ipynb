{
  "nbformat": 4,
  "nbformat_minor": 0,
  "metadata": {
    "colab": {
      "provenance": [],
      "authorship_tag": "ABX9TyNLjNN44MqXMVNwokXDWrat",
      "include_colab_link": true
    },
    "kernelspec": {
      "name": "python3",
      "display_name": "Python 3"
    },
    "language_info": {
      "name": "python"
    }
  },
  "cells": [
    {
      "cell_type": "markdown",
      "metadata": {
        "id": "view-in-github",
        "colab_type": "text"
      },
      "source": [
        "<a href=\"https://colab.research.google.com/github/dimsparagis0210/MLTask/blob/main/ML_Task.ipynb\" target=\"_parent\"><img src=\"https://colab.research.google.com/assets/colab-badge.svg\" alt=\"Open In Colab\"/></a>"
      ]
    },
    {
      "cell_type": "code",
      "execution_count": null,
      "metadata": {
        "id": "pO9rhEXBJf9Y"
      },
      "outputs": [],
      "source": []
    },
    {
      "cell_type": "markdown",
      "source": [
        "#**Απαλλακτική εργασία στο μάθημα Μηχανική Μάθηση**"
      ],
      "metadata": {
        "id": "vKX5dkXWJwTg"
      }
    },
    {
      "cell_type": "markdown",
      "source": [
        "**Σπαράγγης Δημήτρης (ics22066)**\n",
        "</br>\n",
        "**Βιτσιώτη Μαγδαληνή (ics22030)**"
      ],
      "metadata": {
        "id": "ZrvEItusKilf"
      }
    }
  ]
}