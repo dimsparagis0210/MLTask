{
  "nbformat": 4,
  "nbformat_minor": 0,
  "metadata": {
    "colab": {
      "provenance": [],
      "authorship_tag": "ABX9TyN+xFvj2FOwKeYE9jsSkpVb",
      "include_colab_link": true
    },
    "kernelspec": {
      "name": "python3",
      "display_name": "Python 3"
    },
    "language_info": {
      "name": "python"
    }
  },
  "cells": [
    {
      "cell_type": "markdown",
      "metadata": {
        "id": "view-in-github",
        "colab_type": "text"
      },
      "source": [
        "<a href=\"https://colab.research.google.com/github/dimsparagis0210/MLTask/blob/main/ML_Task.ipynb\" target=\"_parent\"><img src=\"https://colab.research.google.com/assets/colab-badge.svg\" alt=\"Open In Colab\"/></a>"
      ]
    },
    {
      "cell_type": "markdown",
      "source": [
        "#**Απαλλακτική εργασία στο μάθημα Μηχανική Μάθηση**"
      ],
      "metadata": {
        "id": "vKX5dkXWJwTg"
      }
    },
    {
      "cell_type": "markdown",
      "source": [
        "**Σπαράγγης Δημήτρης (ics22066)**\n",
        "</br>\n",
        "**Βιτσιώτη Μαγδαληνή (ics22030)**"
      ],
      "metadata": {
        "id": "ZrvEItusKilf"
      }
    },
    {
      "cell_type": "markdown",
      "source": [
        "# Data Preprocessing"
      ],
      "metadata": {
        "id": "ZUPsQfHjMTs6"
      }
    },
    {
      "cell_type": "markdown",
      "source": [
        "Getting Dataset from Google Drive"
      ],
      "metadata": {
        "id": "EcdnxA7ERqdA"
      }
    },
    {
      "cell_type": "code",
      "execution_count": 9,
      "metadata": {
        "colab": {
          "base_uri": "https://localhost:8080/"
        },
        "id": "pO9rhEXBJf9Y",
        "outputId": "573d0e21-a3d6-495c-bbb4-c49cee53e800"
      },
      "outputs": [
        {
          "output_type": "stream",
          "name": "stdout",
          "text": [
            "Mounted at /content/drive\n"
          ]
        }
      ],
      "source": [
        "from google.colab import drive\n",
        "drive.mount('/content/drive')"
      ]
    },
    {
      "cell_type": "code",
      "source": [
        "import pandas as pd\n",
        "\n",
        "# Replace 'path_to_your_file.csv' with the actual path\n",
        "file_path = '/content/drive/MyDrive/ML_task/Covid Data.csv'\n",
        "df = pd.read_csv(file_path)\n",
        "\n",
        "# Check the dataset\n",
        "print(df.head())"
      ],
      "metadata": {
        "colab": {
          "base_uri": "https://localhost:8080/"
        },
        "id": "3ox7dFI4NzLc",
        "outputId": "d00c9700-f330-4530-b77e-ecd846a82af5"
      },
      "execution_count": 13,
      "outputs": [
        {
          "output_type": "stream",
          "name": "stdout",
          "text": [
            "   USMER  MEDICAL_UNIT  SEX  PATIENT_TYPE   DATE_DIED  INTUBED  PNEUMONIA  \\\n",
            "0      2             1    1             1  03/05/2020       97          1   \n",
            "1      2             1    2             1  03/06/2020       97          1   \n",
            "2      2             1    2             2  09/06/2020        1          2   \n",
            "3      2             1    1             1  12/06/2020       97          2   \n",
            "4      2             1    2             1  21/06/2020       97          2   \n",
            "\n",
            "   AGE  PREGNANT  DIABETES  ...  ASTHMA  INMSUPR  HIPERTENSION  OTHER_DISEASE  \\\n",
            "0   65         2         2  ...       2        2             1              2   \n",
            "1   72        97         2  ...       2        2             1              2   \n",
            "2   55        97         1  ...       2        2             2              2   \n",
            "3   53         2         2  ...       2        2             2              2   \n",
            "4   68        97         1  ...       2        2             1              2   \n",
            "\n",
            "   CARDIOVASCULAR  OBESITY  RENAL_CHRONIC  TOBACCO  CLASIFFICATION_FINAL  ICU  \n",
            "0               2        2              2        2                     3   97  \n",
            "1               2        1              1        2                     5   97  \n",
            "2               2        2              2        2                     3    2  \n",
            "3               2        2              2        2                     7   97  \n",
            "4               2        2              2        2                     3   97  \n",
            "\n",
            "[5 rows x 21 columns]\n"
          ]
        }
      ]
    },
    {
      "cell_type": "code",
      "source": [
        "# Check for missing values in each column\n",
        "missing_values = df.isnull().sum()\n",
        "\n",
        "# Display missing values\n",
        "print(\"Missing values in each column:\")\n",
        "print(missing_values)"
      ],
      "metadata": {
        "colab": {
          "base_uri": "https://localhost:8080/"
        },
        "id": "VAk_s6jYOIYT",
        "outputId": "d327cc37-5768-406f-ae9d-2edc4bb01313"
      },
      "execution_count": 18,
      "outputs": [
        {
          "output_type": "stream",
          "name": "stdout",
          "text": [
            "Missing values in each column:\n",
            "USMER                   0\n",
            "MEDICAL_UNIT            0\n",
            "SEX                     0\n",
            "PATIENT_TYPE            0\n",
            "DATE_DIED               0\n",
            "INTUBED                 0\n",
            "PNEUMONIA               0\n",
            "AGE                     0\n",
            "PREGNANT                0\n",
            "DIABETES                0\n",
            "COPD                    0\n",
            "ASTHMA                  0\n",
            "INMSUPR                 0\n",
            "HIPERTENSION            0\n",
            "OTHER_DISEASE           0\n",
            "CARDIOVASCULAR          0\n",
            "OBESITY                 0\n",
            "RENAL_CHRONIC           0\n",
            "TOBACCO                 0\n",
            "CLASIFFICATION_FINAL    0\n",
            "ICU                     0\n",
            "dtype: int64\n"
          ]
        }
      ]
    },
    {
      "cell_type": "code",
      "source": [],
      "metadata": {
        "id": "53Aobo4lSk0K"
      },
      "execution_count": 23,
      "outputs": []
    },
    {
      "cell_type": "code",
      "source": [],
      "metadata": {
        "id": "Q6Q5uJ8NUAX6"
      },
      "execution_count": null,
      "outputs": []
    }
  ]
}